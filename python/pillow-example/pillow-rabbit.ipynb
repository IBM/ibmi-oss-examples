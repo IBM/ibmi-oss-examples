{
 "cells": [
  {
   "cell_type": "code",
   "execution_count": 1,
   "metadata": {},
   "outputs": [],
   "source": [
    "#!/usr/bin/env python3\n",
    "# -*- coding: utf-8 -*-\n",
    "\n",
    "from PIL import Image\n",
    "\n",
    "img = Image.open('rabbit.jpg')\n",
    "logo = Image.open('ibmi.png').convert(\"RGBA\")\n",
    "\n",
    "# Resize the image to exactly half its width and height\n",
    "half_size = [ dim//2 for dim in img.size ]\n",
    "half_img = img.resize(half_size)\n",
    "half_img.save('rabbit_half.jpg')"
   ]
  },
  {
   "cell_type": "markdown",
   "metadata": {},
   "source": [
    "![Image of rabbit_half](rabbit_half.jpg)"
   ]
  },
  {
   "cell_type": "code",
   "execution_count": 2,
   "metadata": {},
   "outputs": [],
   "source": [
    "# Resize the image to 512x512, disregarding aspect ratio \n",
    "small_size = [ 512, 512 ]\n",
    "small_img = img.resize(small_size)\n",
    "small_img.save('rabbit_512x512.jpg')"
   ]
  },
  {
   "cell_type": "markdown",
   "metadata": {},
   "source": [
    "![Image of rabbit_512x512](rabbit_512x512.jpg)"
   ]
  },
  {
   "cell_type": "code",
   "execution_count": 3,
   "metadata": {},
   "outputs": [],
   "source": [
    "# Make a thumbnail, keeping the same aspect ratio\n",
    "# where the length and width are 534 pixels max\n",
    "max_size = (534, 534)\n",
    "small_img = img.copy()\n",
    "small_img.thumbnail(max_size)\n",
    "small_img.save('rabbit_thumb.jpg')"
   ]
  },
  {
   "cell_type": "markdown",
   "metadata": {},
   "source": [
    "![Image of rabbit_thumb](rabbit_thumb.jpg)"
   ]
  },
  {
   "cell_type": "code",
   "execution_count": 5,
   "metadata": {},
   "outputs": [],
   "source": [
    "# Use the smaller image from here on out\n",
    "img = small_img\n",
    "\n",
    "# Crop the image\n",
    "# upper left x,y; lower right x,y\n",
    "box = (0, 160, 356, 460)\n",
    "small_img = img.crop(box)\n",
    "small_img.save('rabbit_crop.jpg')"
   ]
  },
  {
   "cell_type": "markdown",
   "metadata": {},
   "source": [
    "![Image of rabbit_crop](rabbit_crop.jpg)"
   ]
  },
  {
   "cell_type": "code",
   "execution_count": 6,
   "metadata": {},
   "outputs": [],
   "source": [
    "# Add an IBM i watermark to the rabbit\n",
    "position = ( \\\n",
    "(img.width - logo.width - 5), \\\n",
    "(img.height - logo.height - 5))\n",
    "\n",
    "marked_image = img.copy()\n",
    "marked_image.paste(logo, position, logo)\n",
    "marked_image.save('rabbit_watermarked.jpg')"
   ]
  },
  {
   "cell_type": "markdown",
   "metadata": {},
   "source": [
    "![Image of rabbit_watermarked](rabbit_watermarked.jpg)"
   ]
  }
 ],
 "metadata": {
  "kernelspec": {
   "display_name": "Python 3",
   "language": "python",
   "name": "python3"
  },
  "language_info": {
   "codemirror_mode": {
    "name": "ipython",
    "version": 3
   },
   "file_extension": ".py",
   "mimetype": "text/x-python",
   "name": "python",
   "nbconvert_exporter": "python",
   "pygments_lexer": "ipython3",
   "version": "3.7.3"
  }
 },
 "nbformat": 4,
 "nbformat_minor": 4
}
