{
 "cells": [
  {
   "cell_type": "code",
   "execution_count": null,
   "metadata": {},
   "outputs": [],
   "source": [
    "# Import gmplot library.\n",
    "from gmplot import *\n",
    "\n",
    "import ibm_db_dbi as dbi\n",
    "\n",
    "# Generate a map from Db2 data and save it as gmplotwithdb2data.html\n",
    "# The map will contain points showing customer locations from DB2\n",
    "\n",
    "conn = dbi.connect()\n",
    "cur = conn.cursor()\n",
    "cur.execute(\"SELECT CUSNUM, LSTNAM, INIT, STREET, CITY, STATE, ZIPCOD FROM QIWS.QCUSTCDT\")\n",
    "\n",
    "cusnumvalues = []\n",
    "customervalues = []\n",
    "streetvalues = []\n",
    "cityvalues = []\n",
    "statevalues = []\n",
    "zipcodevalues = []\n",
    "lats = []\n",
    "lons = []"
   ]
  },
  {
   "cell_type": "code",
   "execution_count": null,
   "metadata": {},
   "outputs": [],
   "source": [
    "# get customer data from DB2\n",
    "for row, data in enumerate(cur, start=0):\n",
    "    cusnumvalues.append(data[0])\n",
    "    customervalues.append(str(data[2]) + ' ' + str(data[1]))\n",
    "    streetvalues.append(str(data[3]))\n",
    "    cityvalues.append(str(data[4]))\n",
    "    statevalues.append(str(data[5]))\n",
    "    zipcodevalues.append(str(data[6]))"
   ]
  },
  {
   "cell_type": "code",
   "execution_count": null,
   "metadata": {},
   "outputs": [],
   "source": [
    "# Place map\n",
    "# First two arugments are the geogrphical coordinates .i.e. Latitude and Longitude\n",
    "# and the zoom resolution.  Set to central United States.\n",
    "gmap = gmplot.GoogleMapPlotter(38.7099886, -96.6745042, 5)\n",
    "# Because google maps api is not a free service now, you need to get an api key.\n",
    "# https://developers.google.com/maps/documentation/javascript/get-api-key\n",
    "# your api key\n",
    "gmap.apikey = \"Your_API_KEY\"\n",
    "# determine latitude and longitude of customers\n",
    "for i in range(len(zipcodevalues)):\n",
    "\tlocation = gmap.geocode(streetvalues[i]+', '+cityvalues[i]+', '+statevalues[i]+', '+zipcodevalues[i], apikey=gmap.apikey)\n",
    "\tlats.append(location[0])\n",
    "\tlons.append(location[1])\n",
    "# plot locations on map\n",
    "gmap.scatter(lats,lons, label=cusnumvalues, title=customervalues,color='cyan')"
   ]
  },
  {
   "cell_type": "code",
   "execution_count": null,
   "metadata": {},
   "outputs": [],
   "source": [
    "# Location where you want to save your file.\n",
    "gmap.draw( \"gmplotwithdb2data.html\" )"
   ]
  },
  {
   "cell_type": "markdown",
   "metadata": {},
   "source": [
    "![Image of Map](screenshot.png)"
   ]
  }
 ],
 "metadata": {
  "kernelspec": {
   "display_name": "Python 3",
   "language": "python",
   "name": "python3"
  },
  "language_info": {
   "codemirror_mode": {
    "name": "ipython",
    "version": 3
   },
   "file_extension": ".py",
   "mimetype": "text/x-python",
   "name": "python",
   "nbconvert_exporter": "python",
   "pygments_lexer": "ipython3",
   "version": "3.7.3"
  }
 },
 "nbformat": 4,
 "nbformat_minor": 4
}